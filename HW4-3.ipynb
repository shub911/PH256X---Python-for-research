{
 "cells": [
  {
   "cell_type": "markdown",
   "metadata": {},
   "source": [
    "# Using Python for Research Homework: Week 4, Case Study 3\n",
    "\n",
    "Homophily is a property of networks.  Homophily occurs when nodes that are neighbors in a network also share a characteristic more often than nodes that are not network neighbors.  In this case study, we will investigate homophily of several characteristics of individuals connected in social networks in rural India."
   ]
  },
  {
   "cell_type": "markdown",
   "metadata": {},
   "source": [
    "### Exercise 1\n",
    "In Exercise 1, we will calculate the chance homophily for an arbitrary characteristic. Homophily is the proportion of edges in the network whose constituent nodes share that characteristic.\n",
    "\n",
    "How much homophily do we expect by chance? If characteristics are distributed completely randomly, the probability that two nodes \\(x\\) and \\(y\\) share characteristic \\(a\\) is the probability both nodes have characteristic \\(a\\) , which is the marginal probability of \\(a\\) squared. The total probability that nodes \\(x\\) and \\(y\\) share their characteristic is therefore the sum of the square of the marginal probabilities of each characteristic in the network.\n",
    "\n",
    "<strong>Instructions</strong>\n",
    "<ul><li>Create a function <code>marginal_prob</code> that takes a dictionary <code>chars</code> with personal IDs as keys and characteristics as values; it should return a dictionary with characteristics as keys and their marginal probability (frequency of occurence of a characteristic divided by the sum of frequencies of each characteristic) as values.</li>\n",
    "<li>Create a function <code>chance_homophily(chars)</code> that takes a dictionary <code>chars</code> defined as above and computes the chance homophily (homophily due to chance alone) for that characteristic.</li>\n",
    "<li>A sample of three peoples' favorite colors is given in <code>favorite_colors</code>. Use your function to compute the chance homophily in this group, and store it as <code>color_homophily</code>.</li>\n",
    "<li>Print <code>color_homophily</code>.</li></ul>"
   ]
  },
  {
   "cell_type": "code",
   "execution_count": 1,
   "metadata": {},
   "outputs": [
    {
     "name": "stdout",
     "output_type": "stream",
     "text": [
      "0.5555555555555556\n"
     ]
    }
   ],
   "source": [
    "from collections import Counter\n",
    "import numpy as np\n",
    "\n",
    "# def marginal_prob(chars):\n",
    "    \n",
    "        \n",
    "def chance_homophily(chars):\n",
    "    chars_counts = np.array(list(Counter(chars.values()).values()))\n",
    "    chars_frequency = chars_counts / sum(chars_counts)\n",
    "    return sum(chars_frequency**2)\n",
    "\n",
    "favorite_colors = {\n",
    "    \"ankit\":  \"red\",\n",
    "    \"xiaoyu\": \"blue\",\n",
    "    \"mary\":   \"blue\"\n",
    "}\n",
    "\n",
    "color_homophily = chance_homophily(favorite_colors)\n",
    "print(color_homophily)"
   ]
  },
  {
   "cell_type": "markdown",
   "metadata": {},
   "source": [
    "### Exercise 2\n",
    "\n",
    "In the remaining exercises, we will calculate actual homophily in these village and compare the obtained values to those obtained by chance. In this exercise, we subset the data into individual villages and store them.\n",
    "\n",
    "#### Instructions \n",
    "\n",
    "- `individual_characteristics.dta` contains several characteristics for each individual in the dataset such as age, religion, and caste. Use the `pandas` library to read in and store these characteristics as a dataframe called `df`.\n",
    "- Store separate datasets for individuals belonging to Villages 1 and 2 as `df1` and `df2`, respectively.\n",
    "- Note that some attributes may be missing for some individuals. In this case study, we will ignore rows of data where some column information is missing.\n",
    "- Use the head method to display the first few entries of `df1`."
   ]
  },
  {
   "cell_type": "code",
   "execution_count": 2,
   "metadata": {},
   "outputs": [
    {
     "data": {
      "text/html": [
       "<div>\n",
       "<style scoped>\n",
       "    .dataframe tbody tr th:only-of-type {\n",
       "        vertical-align: middle;\n",
       "    }\n",
       "\n",
       "    .dataframe tbody tr th {\n",
       "        vertical-align: top;\n",
       "    }\n",
       "\n",
       "    .dataframe thead th {\n",
       "        text-align: right;\n",
       "    }\n",
       "</style>\n",
       "<table border=\"1\" class=\"dataframe\">\n",
       "  <thead>\n",
       "    <tr style=\"text-align: right;\">\n",
       "      <th></th>\n",
       "      <th>village</th>\n",
       "      <th>adjmatrix_key</th>\n",
       "      <th>pid</th>\n",
       "      <th>hhid</th>\n",
       "      <th>resp_id</th>\n",
       "      <th>resp_gend</th>\n",
       "      <th>resp_status</th>\n",
       "      <th>age</th>\n",
       "      <th>religion</th>\n",
       "      <th>caste</th>\n",
       "      <th>...</th>\n",
       "      <th>privategovt</th>\n",
       "      <th>work_outside</th>\n",
       "      <th>work_outside_freq</th>\n",
       "      <th>shgparticipate</th>\n",
       "      <th>shg_no</th>\n",
       "      <th>savings</th>\n",
       "      <th>savings_no</th>\n",
       "      <th>electioncard</th>\n",
       "      <th>rationcard</th>\n",
       "      <th>rationcard_colour</th>\n",
       "    </tr>\n",
       "  </thead>\n",
       "  <tbody>\n",
       "    <tr>\n",
       "      <th>0</th>\n",
       "      <td>1</td>\n",
       "      <td>5</td>\n",
       "      <td>100201</td>\n",
       "      <td>1002</td>\n",
       "      <td>1</td>\n",
       "      <td>1</td>\n",
       "      <td>Head of Household</td>\n",
       "      <td>38</td>\n",
       "      <td>HINDUISM</td>\n",
       "      <td>OBC</td>\n",
       "      <td>...</td>\n",
       "      <td>PRIVATE BUSINESS</td>\n",
       "      <td>Yes</td>\n",
       "      <td>0.0</td>\n",
       "      <td>No</td>\n",
       "      <td>NaN</td>\n",
       "      <td>No</td>\n",
       "      <td>NaN</td>\n",
       "      <td>Yes</td>\n",
       "      <td>Yes</td>\n",
       "      <td>GREEN</td>\n",
       "    </tr>\n",
       "    <tr>\n",
       "      <th>1</th>\n",
       "      <td>1</td>\n",
       "      <td>6</td>\n",
       "      <td>100202</td>\n",
       "      <td>1002</td>\n",
       "      <td>2</td>\n",
       "      <td>2</td>\n",
       "      <td>Spouse of Head of Household</td>\n",
       "      <td>27</td>\n",
       "      <td>HINDUISM</td>\n",
       "      <td>OBC</td>\n",
       "      <td>...</td>\n",
       "      <td>NaN</td>\n",
       "      <td>NaN</td>\n",
       "      <td>NaN</td>\n",
       "      <td>No</td>\n",
       "      <td>NaN</td>\n",
       "      <td>No</td>\n",
       "      <td>NaN</td>\n",
       "      <td>Yes</td>\n",
       "      <td>Yes</td>\n",
       "      <td>GREEN</td>\n",
       "    </tr>\n",
       "    <tr>\n",
       "      <th>2</th>\n",
       "      <td>1</td>\n",
       "      <td>23</td>\n",
       "      <td>100601</td>\n",
       "      <td>1006</td>\n",
       "      <td>1</td>\n",
       "      <td>1</td>\n",
       "      <td>Head of Household</td>\n",
       "      <td>29</td>\n",
       "      <td>HINDUISM</td>\n",
       "      <td>OBC</td>\n",
       "      <td>...</td>\n",
       "      <td>OTHER LAND</td>\n",
       "      <td>No</td>\n",
       "      <td>NaN</td>\n",
       "      <td>No</td>\n",
       "      <td>NaN</td>\n",
       "      <td>No</td>\n",
       "      <td>NaN</td>\n",
       "      <td>Yes</td>\n",
       "      <td>Yes</td>\n",
       "      <td>GREEN</td>\n",
       "    </tr>\n",
       "    <tr>\n",
       "      <th>3</th>\n",
       "      <td>1</td>\n",
       "      <td>24</td>\n",
       "      <td>100602</td>\n",
       "      <td>1006</td>\n",
       "      <td>2</td>\n",
       "      <td>2</td>\n",
       "      <td>Spouse of Head of Household</td>\n",
       "      <td>24</td>\n",
       "      <td>HINDUISM</td>\n",
       "      <td>OBC</td>\n",
       "      <td>...</td>\n",
       "      <td>PRIVATE BUSINESS</td>\n",
       "      <td>No</td>\n",
       "      <td>NaN</td>\n",
       "      <td>Yes</td>\n",
       "      <td>1.0</td>\n",
       "      <td>Yes</td>\n",
       "      <td>1.0</td>\n",
       "      <td>Yes</td>\n",
       "      <td>No</td>\n",
       "      <td>NaN</td>\n",
       "    </tr>\n",
       "    <tr>\n",
       "      <th>4</th>\n",
       "      <td>1</td>\n",
       "      <td>27</td>\n",
       "      <td>100701</td>\n",
       "      <td>1007</td>\n",
       "      <td>1</td>\n",
       "      <td>1</td>\n",
       "      <td>Head of Household</td>\n",
       "      <td>58</td>\n",
       "      <td>HINDUISM</td>\n",
       "      <td>OBC</td>\n",
       "      <td>...</td>\n",
       "      <td>OTHER LAND</td>\n",
       "      <td>No</td>\n",
       "      <td>NaN</td>\n",
       "      <td>No</td>\n",
       "      <td>NaN</td>\n",
       "      <td>No</td>\n",
       "      <td>NaN</td>\n",
       "      <td>Yes</td>\n",
       "      <td>Yes</td>\n",
       "      <td>GREEN</td>\n",
       "    </tr>\n",
       "  </tbody>\n",
       "</table>\n",
       "<p>5 rows × 48 columns</p>\n",
       "</div>"
      ],
      "text/plain": [
       "   village  adjmatrix_key     pid  hhid  resp_id  resp_gend  \\\n",
       "0        1              5  100201  1002        1          1   \n",
       "1        1              6  100202  1002        2          2   \n",
       "2        1             23  100601  1006        1          1   \n",
       "3        1             24  100602  1006        2          2   \n",
       "4        1             27  100701  1007        1          1   \n",
       "\n",
       "                   resp_status  age  religion caste  ...       privategovt  \\\n",
       "0            Head of Household   38  HINDUISM   OBC  ...  PRIVATE BUSINESS   \n",
       "1  Spouse of Head of Household   27  HINDUISM   OBC  ...               NaN   \n",
       "2            Head of Household   29  HINDUISM   OBC  ...        OTHER LAND   \n",
       "3  Spouse of Head of Household   24  HINDUISM   OBC  ...  PRIVATE BUSINESS   \n",
       "4            Head of Household   58  HINDUISM   OBC  ...        OTHER LAND   \n",
       "\n",
       "  work_outside work_outside_freq shgparticipate shg_no savings savings_no  \\\n",
       "0          Yes               0.0             No    NaN      No        NaN   \n",
       "1          NaN               NaN             No    NaN      No        NaN   \n",
       "2           No               NaN             No    NaN      No        NaN   \n",
       "3           No               NaN            Yes    1.0     Yes        1.0   \n",
       "4           No               NaN             No    NaN      No        NaN   \n",
       "\n",
       "  electioncard rationcard rationcard_colour  \n",
       "0          Yes        Yes             GREEN  \n",
       "1          Yes        Yes             GREEN  \n",
       "2          Yes        Yes             GREEN  \n",
       "3          Yes         No               NaN  \n",
       "4          Yes        Yes             GREEN  \n",
       "\n",
       "[5 rows x 48 columns]"
      ]
     },
     "execution_count": 2,
     "metadata": {},
     "output_type": "execute_result"
    }
   ],
   "source": [
    "import pandas as pd\n",
    "\n",
    "df  = pd.read_csv(\"https://courses.edx.org/asset-v1:HarvardX+PH526x+2T2019+type@asset+block@individual_characteristics.csv\", low_memory=False, index_col=0)\n",
    "df1 = df.loc[df.village == 1]\n",
    "df2 = df.loc[df.village == 2]\n",
    "\n",
    "df1.head()"
   ]
  },
  {
   "cell_type": "markdown",
   "metadata": {},
   "source": [
    "### Exercise 3 \n",
    "\n",
    "In this exercise, we define a few dictionaries that enable us to look up the sex, caste, and religion of members of each village by personal ID. For Villages 1 and 2, their personal IDs are stored as `pid`.\n",
    "\n",
    "#### Instructions \n",
    "- Define dictionaries with personal IDs as keys and a given covariate for that individual as values. Complete this for the sex, caste, and religion covariates, for Villages 1 and 2.\n",
    "- For Village 1, store these dictionaries into variables named `sex1`, `caste1`, and `religion1`.\n",
    "- For Village 2, store these dictionaries into variables named `sex2`, `caste2`, and `religion2`."
   ]
  },
  {
   "cell_type": "code",
   "execution_count": 3,
   "metadata": {},
   "outputs": [
    {
     "name": "stdout",
     "output_type": "stream",
     "text": [
      "{200101: 'GENERAL', 200201: 'GENERAL', 200202: 'GENERAL', 200401: 'GENERAL', 200402: 'GENERAL', 200601: 'GENERAL', 200602: 'GENERAL', 200603: 'GENERAL', 200604: 'GENERAL', 200901: 'GENERAL', 200902: 'OBC', 201001: 'GENERAL', 201002: 'GENERAL', 201102: 'GENERAL', 201103: 'GENERAL', 201201: 'GENERAL', 201202: 'GENERAL', 201203: 'GENERAL', 201204: 'GENERAL', 201205: 'GENERAL', 201206: 'GENERAL', 201301: 'GENERAL', 201302: 'GENERAL', 201501: 'OBC', 201502: 'OBC', 201601: 'GENERAL', 201602: 'GENERAL', 201801: 'GENERAL', 201802: 'GENERAL', 202001: 'GENERAL', 202002: 'GENERAL', 202401: 'GENERAL', 202402: 'GENERAL', 202501: 'GENERAL', 202502: 'GENERAL', 202601: 'GENERAL', 202602: 'GENERAL', 202801: 'GENERAL', 202802: 'OBC', 202803: 'OBC', 203201: 'GENERAL', 203202: 'GENERAL', 203301: 'GENERAL', 203302: 'GENERAL', 203601: 'OBC', 203602: 'OBC', 203701: 'GENERAL', 203702: 'GENERAL', 204501: 'SCHEDULED CASTE', 204502: 'SCHEDULED CASTE', 204504: 'SCHEDULED CASTE', 204601: 'SCHEDULED CASTE', 204602: 'SCHEDULED CASTE', 205001: 'SCHEDULED CASTE', 205002: 'SCHEDULED CASTE', 205004: 'SCHEDULED CASTE', 205101: 'SCHEDULED CASTE', 205102: 'SCHEDULED CASTE', 205301: 'SCHEDULED CASTE', 205302: 'SCHEDULED CASTE', 205401: 'SCHEDULED CASTE', 205402: 'SCHEDULED CASTE', 205501: 'SCHEDULED CASTE', 205502: 'SCHEDULED CASTE', 205601: 'SCHEDULED CASTE', 205602: 'SCHEDULED CASTE', 206001: 'SCHEDULED CASTE', 206002: 'SCHEDULED CASTE', 206201: 'SCHEDULED CASTE', 206202: 'SCHEDULED CASTE', 206601: 'SCHEDULED CASTE', 206602: 'SCHEDULED CASTE', 206901: 'SCHEDULED CASTE', 206902: 'SCHEDULED CASTE', 206903: 'SCHEDULED CASTE', 206904: 'SCHEDULED CASTE', 206908: 'SCHEDULED CASTE', 206909: 'SCHEDULED CASTE', 207101: 'SCHEDULED CASTE', 207102: 'SCHEDULED CASTE', 207401: 'SCHEDULED CASTE', 207402: 'SCHEDULED CASTE', 207403: 'SCHEDULED CASTE', 207801: 'SCHEDULED CASTE', 207802: 'SCHEDULED CASTE', 208102: 'SCHEDULED CASTE', 208201: 'SCHEDULED CASTE', 208202: 'SCHEDULED CASTE', 208301: 'SCHEDULED CASTE', 208302: 'SCHEDULED CASTE', 208401: 'SCHEDULED CASTE', 208402: 'SCHEDULED CASTE', 208501: 'SCHEDULED CASTE', 208502: 'SCHEDULED CASTE', 208503: 'SCHEDULED CASTE', 208601: 'SCHEDULED CASTE', 208602: 'SCHEDULED CASTE', 208603: 'SCHEDULED CASTE', 208701: 'SCHEDULED CASTE', 208801: 'SCHEDULED CASTE', 208802: 'SCHEDULED CASTE', 208803: 'SCHEDULED CASTE', 208804: 'SCHEDULED CASTE', 208805: 'SCHEDULED CASTE', 208901: 'SCHEDULED CASTE', 208902: 'SCHEDULED CASTE', 209301: 'SCHEDULED CASTE', 209302: 'SCHEDULED CASTE', 209501: 'SCHEDULED CASTE', 209502: 'SCHEDULED CASTE', 209503: 'SCHEDULED CASTE', 209504: 'SCHEDULED CASTE', 209601: 'SCHEDULED CASTE', 209602: 'SCHEDULED CASTE', 209801: 'SCHEDULED CASTE', 209802: 'SCHEDULED CASTE', 209803: 'SCHEDULED CASTE', 209804: 'SCHEDULED CASTE', 209805: 'OBC', 210401: 'OBC', 210402: 'OBC', 210403: 'OBC', 210404: 'OBC', 210501: 'OBC', 210502: 'OBC', 210505: 'OBC', 210601: 'GENERAL', 210602: 'GENERAL', 210701: 'GENERAL', 210702: 'GENERAL', 210901: 'OBC', 210902: 'GENERAL', 211101: 'GENERAL', 211102: 'GENERAL', 211801: 'GENERAL', 211802: 'OBC', 211805: 'GENERAL', 211901: 'GENERAL', 211902: 'GENERAL', 211903: 'GENERAL', 211904: 'GENERAL', 212101: 'GENERAL', 212102: 'GENERAL', 212301: 'GENERAL', 212302: 'GENERAL', 212303: 'GENERAL', 212304: 'GENERAL', 212306: 'GENERAL', 212307: 'GENERAL', 212401: 'GENERAL', 212402: 'GENERAL', 213001: 'GENERAL', 213002: 'GENERAL', 213003: 'GENERAL', 213004: 'GENERAL', 213101: 'GENERAL', 213102: 'GENERAL', 213701: 'GENERAL', 213702: 'GENERAL', 213801: 'GENERAL', 213802: 'OBC', 214101: 'GENERAL', 214102: 'GENERAL', 214103: 'GENERAL', 214104: 'GENERAL', 214201: 'GENERAL', 214202: 'GENERAL', 214203: 'GENERAL', 214206: 'GENERAL', 214401: 'GENERAL', 214402: 'GENERAL', 214501: 'GENERAL', 214502: 'GENERAL', 214503: 'GENERAL', 214504: 'GENERAL', 214901: 'GENERAL', 214902: 'GENERAL', 215401: 'GENERAL', 215402: 'GENERAL', 215701: 'GENERAL', 215702: 'GENERAL', 215703: 'GENERAL', 215704: 'GENERAL', 215901: 'GENERAL', 215902: 'GENERAL', 216101: 'GENERAL', 216102: 'OBC', 216401: 'OBC', 216402: 'GENERAL', 216403: 'GENERAL', 216404: 'GENERAL', 216701: 'GENERAL', 216702: 'GENERAL', 216801: 'GENERAL', 216802: 'GENERAL', 216803: 'OBC', 216804: 'OBC', 216901: 'GENERAL', 216902: 'GENERAL', 216903: 'GENERAL', 216904: 'OBC', 216905: 'GENERAL', 216906: 'GENERAL'}\n"
     ]
    }
   ],
   "source": [
    "sex1      = dict(zip(df1.pid,df1.resp_gend))\n",
    "caste1    = dict(zip(df1.pid,df1.caste))\n",
    "religion1 = dict(zip(df1.pid,df1.religion))\n",
    "\n",
    "sex2      = dict(zip(df2.pid,df2.resp_gend))\n",
    "caste2    = dict(zip(df2.pid,df2.caste))\n",
    "print(caste2)\n",
    "religion2 = dict(zip(df2.pid,df2.religion))\n"
   ]
  },
  {
   "cell_type": "markdown",
   "metadata": {},
   "source": [
    "### Exercise 4\n",
    "\n",
    "In this exercise, we will print the chance homophily of several characteristics of Villages 1 and 2. \n",
    "\n",
    "#### Instructions \n",
    "-  Use `chance_homophily` to compute the chance homophily for sex, caste, and religion In Villages 1 and 2. Is the chance homophily for any attribute very high for either village?"
   ]
  },
  {
   "cell_type": "code",
   "execution_count": 4,
   "metadata": {},
   "outputs": [
    {
     "name": "stdout",
     "output_type": "stream",
     "text": [
      "0.5027299861680701\n",
      "0.6741488509791551\n",
      "0.9804896988521925\n",
      "0.5005945303210464\n",
      "0.425368244800893\n",
      "1.0\n"
     ]
    }
   ],
   "source": [
    "print(chance_homophily(sex1))\n",
    "print(chance_homophily(caste1))\n",
    "print(chance_homophily(religion1))\n",
    "print(chance_homophily(sex2))\n",
    "print(chance_homophily(caste2))\n",
    "print(chance_homophily(religion2))\n"
   ]
  },
  {
   "cell_type": "markdown",
   "metadata": {},
   "source": [
    "### Exercise 5\n",
    "\n",
    "In this exercise, we will create a function that computes the observed homophily given a village and characteristic.\n",
    "\n",
    "#### Instructions \n",
    "- Complete the function `homophily()`, which takes a network `G`, a dictionary of node characteristics `chars`, and node IDs `IDs`. For each node pair, determine whether a tie exists between them, as well as whether they share a characteristic. The total count of these is `num_ties` and `num_same_ties`, respectively, and their ratio is the homophily of chars in `G`. Complete the function by choosing where to increment `num_same_ties` and `num_ties`."
   ]
  },
  {
   "cell_type": "code",
   "execution_count": 5,
   "metadata": {},
   "outputs": [],
   "source": [
    "def homophily(G, chars, IDs):\n",
    "    \"\"\"\n",
    "    Given a network G, a dict of characteristics chars for node IDs,\n",
    "    and dict of node IDs for each node in the network,\n",
    "    find the homophily of the network.\n",
    "    \"\"\"\n",
    "    num_same_ties = 0\n",
    "    num_ties = 0\n",
    "    for n1, n2 in G.edges():\n",
    "        if IDs[n1] in chars and IDs[n2] in chars:\n",
    "            if G.has_edge(n1, n2):\n",
    "                num_ties += 1\n",
    "                # Should `num_ties` be incremented?  What about `num_same_ties`?\n",
    "                if chars[IDs[n1]] == chars[IDs[n2]]:\n",
    "                    num_same_ties += 1\n",
    "                    # Should `num_ties` be incremented?  What about `num_same_ties`?\n",
    "    return (num_same_ties / num_ties)    "
   ]
  },
  {
   "cell_type": "markdown",
   "metadata": {},
   "source": [
    "### Exercise 6\n",
    "\n",
    "In this exercise, we will obtain the personal IDs for Villages 1 and 2. These will be used in the next exercise to calculate homophily for these villages.\n",
    "\n",
    "#### Instructions \n",
    "- In this dataset, each individual has a personal ID, or PID, stored in `key_vilno_1.csv` and `key_vilno_2.csv` for villages 1 and 2, respectively. `data_filepath1` and `data_filepath2` contain the URLs to the datasets used in this exercise. Use `pd.read_csv` to read in and store `key_vilno_1.csv` and `key_vilno_2.csv` as `pid1` and `pid2` respectively. "
   ]
  },
  {
   "cell_type": "code",
   "execution_count": 6,
   "metadata": {},
   "outputs": [
    {
     "name": "stdout",
     "output_type": "stream",
     "text": [
      "        0       1\n",
      "0     NaN       0\n",
      "1     0.0  100101\n",
      "2     1.0  100102\n",
      "3     2.0  100103\n",
      "4     3.0  100104\n",
      "5     4.0  100201\n",
      "6     5.0  100202\n",
      "7     6.0  100203\n",
      "8     7.0  100204\n",
      "9     8.0  100205\n",
      "10    9.0  100206\n",
      "11   10.0  100301\n",
      "12   11.0  100302\n",
      "13   12.0  100303\n",
      "14   13.0  100304\n",
      "15   14.0  100401\n",
      "16   15.0  100402\n",
      "17   16.0  100403\n",
      "18   17.0  100404\n",
      "19   18.0  100501\n",
      "20   19.0  100502\n",
      "21   20.0  100503\n",
      "22   21.0  100504\n",
      "23   22.0  100601\n",
      "24   23.0  100602\n",
      "25   24.0  100603\n",
      "26   25.0  100604\n",
      "27   26.0  100701\n",
      "28   27.0  100702\n",
      "29   28.0  100703\n",
      "..    ...     ...\n",
      "71   70.0  101601\n",
      "72   71.0  101602\n",
      "73   72.0  101603\n",
      "74   73.0  101604\n",
      "75   74.0  101605\n",
      "76   75.0  101701\n",
      "77   76.0  101801\n",
      "78   77.0  101802\n",
      "79   78.0  101803\n",
      "80   79.0  101804\n",
      "81   80.0  101901\n",
      "82   81.0  101902\n",
      "83   82.0  101903\n",
      "84   83.0  101904\n",
      "85   84.0  101905\n",
      "86   85.0  102001\n",
      "87   86.0  102002\n",
      "88   87.0  102003\n",
      "89   88.0  102004\n",
      "90   89.0  102101\n",
      "91   90.0  102102\n",
      "92   91.0  102103\n",
      "93   92.0  102104\n",
      "94   93.0  102105\n",
      "95   94.0  102106\n",
      "96   95.0  102107\n",
      "97   96.0  102201\n",
      "98   97.0  102202\n",
      "99   98.0  102203\n",
      "100  99.0  102204\n",
      "\n",
      "[101 rows x 2 columns]\n"
     ]
    }
   ],
   "source": [
    "data_filepath1 = \"https://courses.edx.org/asset-v1:HarvardX+PH526x+2T2019+type@asset+block@key_vilno_1.csv\"\n",
    "data_filepath2 = \"https://courses.edx.org/asset-v1:HarvardX+PH526x+2T2019+type@asset+block@key_vilno_2.csv\"\n",
    "\n",
    "pid1 = pd.read_csv(data_filepath1, header = None)\n",
    "pid2 = pd.read_csv(data_filepath2, header = None)\n",
    "print(pid1[:101])\n"
   ]
  },
  {
   "cell_type": "markdown",
   "metadata": {},
   "source": [
    "### Exercise 7\n",
    "\n",
    "In this exercise, we will compute the homophily of several network characteristics for Villages 1 and 2 and compare them to homophily due to chance alone. The networks for these villages have been stored as networkx graph objects `G1` and `G2`.\n",
    "\n",
    "#### Instructions \n",
    "\n",
    "- Use your `homophily()` function to compute the observed homophily for sex, caste, and religion in Villages 1 and 2. Print all six values.\n",
    "- Use the `chance_homophily()` to compare these values to chance homophily. Are these values higher or lower than that expected by chance?"
   ]
  },
  {
   "cell_type": "code",
   "execution_count": 7,
   "metadata": {},
   "outputs": [
    {
     "name": "stdout",
     "output_type": "stream",
     "text": [
      "Village 1 observed proportion of same sex: 0.5908629441624366\n",
      "Village 1 observed proportion of same caste: 0.7959390862944162\n",
      "Village 1 observed proportion of same religion : 0.9908629441624366\n",
      "Village 2 observed proportion of same sex: 0.5658073270013568\n",
      "Village 2 observed proportion of same caste: 0.8276797829036635\n",
      "Village 2 observed proportion of same religion : 1.0\n"
     ]
    }
   ],
   "source": [
    "import networkx as nx\n",
    "A1 = np.array(pd.read_csv(\"https://courses.edx.org/asset-v1:HarvardX+PH526x+2T2019+type@asset+block@adj_allVillageRelationships_vilno1.csv\", index_col=0))\n",
    "A2 = np.array(pd.read_csv(\"https://courses.edx.org/asset-v1:HarvardX+PH526x+2T2019+type@asset+block@adj_allVillageRelationships_vilno2.csv\", index_col=0))\n",
    "G1 = nx.to_networkx_graph(A1)\n",
    "G2 = nx.to_networkx_graph(A2)\n",
    "\n",
    "pid1 = pd.read_csv(data_filepath1, dtype=int)['0'].to_dict()\n",
    "pid2 = pd.read_csv(data_filepath2, dtype=int)['0'].to_dict()\n",
    "\n",
    "# Enter your code here!\n",
    "print(\"Village 1 observed proportion of same sex:\", homophily(G1, sex1, pid1))\n",
    "print(\"Village 1 observed proportion of same caste:\", homophily(G1, caste1, pid1))\n",
    "print(\"Village 1 observed proportion of same religion :\", homophily(G1, religion1, pid1))\n",
    "print(\"Village 2 observed proportion of same sex:\", homophily(G2, sex2, pid2))\n",
    "print(\"Village 2 observed proportion of same caste:\", homophily(G2, caste2, pid2))\n",
    "print(\"Village 2 observed proportion of same religion :\", homophily(G2, religion2, pid2))"
   ]
  },
  {
   "cell_type": "code",
   "execution_count": 8,
   "metadata": {},
   "outputs": [
    {
     "name": "stdout",
     "output_type": "stream",
     "text": [
      "0.5027299861680701\n",
      "0.6741488509791551\n",
      "0.9804896988521925\n",
      "0.5005945303210464\n",
      "0.425368244800893\n",
      "1.0\n"
     ]
    }
   ],
   "source": [
    "print(chance_homophily(sex1))\n",
    "print(chance_homophily(caste1))\n",
    "print(chance_homophily(religion1))\n",
    "print(chance_homophily(sex2))\n",
    "print(chance_homophily(caste2))\n",
    "print(chance_homophily(religion2))"
   ]
  },
  {
   "cell_type": "code",
   "execution_count": null,
   "metadata": {},
   "outputs": [],
   "source": []
  },
  {
   "cell_type": "code",
   "execution_count": 10,
   "metadata": {},
   "outputs": [],
   "source": []
  },
  {
   "cell_type": "code",
   "execution_count": null,
   "metadata": {},
   "outputs": [],
   "source": []
  }
 ],
 "metadata": {
  "kernelspec": {
   "display_name": "Python 3",
   "language": "python",
   "name": "python3"
  },
  "language_info": {
   "codemirror_mode": {
    "name": "ipython",
    "version": 3
   },
   "file_extension": ".py",
   "mimetype": "text/x-python",
   "name": "python",
   "nbconvert_exporter": "python",
   "pygments_lexer": "ipython3",
   "version": "3.7.3"
  },
  "toc": {
   "base_numbering": 1,
   "nav_menu": {},
   "number_sections": false,
   "sideBar": true,
   "skip_h1_title": false,
   "title_cell": "Table of Contents",
   "title_sidebar": "Contents",
   "toc_cell": false,
   "toc_position": {},
   "toc_section_display": true,
   "toc_window_display": true
  }
 },
 "nbformat": 4,
 "nbformat_minor": 2
}
